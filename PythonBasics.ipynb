{
 "cells": [
  {
   "cell_type": "markdown",
   "metadata": {},
   "source": [
    "# Python Basics Wednesday Workshop\n",
    "***"
   ]
  },
  {
   "cell_type": "markdown",
   "metadata": {},
   "source": [
    "Welcome! Today we will be covering...\n",
    "1. Statements (print)\n",
    "2. Variables\n",
    "3. Data types (string, int, float, tuple)\n",
    "4. If statements and logic\n",
    "5. Loops (for and while)\n",
    "6. Functions\n",
    "7. Lab time! Guess my number.\n",
    "\n",
    "But first: \n",
    "To make a new section of code, use Insert, Cell or press `esc`+`b`. \n",
    "To run the cell, click the Run button or press `shift`+`return`.\n",
    "Make sure to take a look at the keyboard shortcuts under the Help tab at some point."
   ]
  },
  {
   "cell_type": "markdown",
   "metadata": {},
   "source": [
    "### Statements\n",
    "In python, you can simply write your statement, no class setup or semicolons required: <br>\n",
    "(Using a `#` makes a comment that will be ignored by the computer)"
   ]
  },
  {
   "cell_type": "code",
   "execution_count": 1,
   "metadata": {},
   "outputs": [
    {
     "name": "stdout",
     "output_type": "stream",
     "text": [
      "Hello world!\n"
     ]
    }
   ],
   "source": [
    "#This program prints Hello world!\n",
    "print(\"Hello world!\")"
   ]
  },
  {
   "cell_type": "markdown",
   "metadata": {},
   "source": [
    "The print statement will print out whatever you put in the parentheses which is called the argument. In the next example, the argument for the `print` statement is an `input` function, which returns whatever the user types in. Before running it, what do you think the following line of code will do?"
   ]
  },
  {
   "cell_type": "code",
   "execution_count": null,
   "metadata": {},
   "outputs": [],
   "source": [
    "print(input())"
   ]
  },
  {
   "cell_type": "markdown",
   "metadata": {},
   "source": [
    "### Variables\n",
    "Variables can store data that you wouldn't want to type over and over again such as a long piece of text or a number with many decimal places.\n",
    "They can also be used to store data that you don't know what the value is.\n",
    "For example:"
   ]
  },
  {
   "cell_type": "code",
   "execution_count": null,
   "metadata": {},
   "outputs": [],
   "source": [
    "name = input(\"Enter your name:\")   #if you give the input function an argument, it will print it as a prompt\n",
    "msg1 = \"Hi \"\n",
    "msg2 = \", welcome to Chili's.\"\n",
    "x = 926591.3432\n",
    "\n",
    "print(msg1 + name + msg2)   #using + adds the pieces of text together\n",
    "print(x*4)"
   ]
  },
  {
   "cell_type": "markdown",
   "metadata": {},
   "source": [
    "### Data Types\n",
    "Data types are just the different kinds of information you might need, like text or numbers.\n",
    "\n",
    "##### Strings\n",
    "A section of text is called a string. In the examples above, we had to use the quote marks so that jupyter knew we were making a string and not refering to variable names. In python, you can use `\"` (double quote) or `'` (single quote) for strings."
   ]
  },
  {
   "cell_type": "code",
   "execution_count": null,
   "metadata": {},
   "outputs": [],
   "source": [
    "print(\"hi\")\n",
    "print('hi')"
   ]
  },
  {
   "cell_type": "markdown",
   "metadata": {},
   "source": [
    "You can add (concatenate) different strings together using `+`, and you can multiply a string by a postitive integer. <br>\n",
    "`\\n` makes a new line."
   ]
  },
  {
   "cell_type": "code",
   "execution_count": null,
   "metadata": {},
   "outputs": [],
   "source": [
    "print(\"hello\" + \"\\n\" + \"world\")\n",
    "print(\"hi! \" * 22)"
   ]
  },
  {
   "cell_type": "markdown",
   "metadata": {},
   "source": [
    "To get a specific letter of a string, put the index of the letter is brackets after the string. The first character in the string has index 0."
   ]
  },
  {
   "cell_type": "code",
   "execution_count": null,
   "metadata": {},
   "outputs": [],
   "source": [
    "print(\"jupyter\"[0])\n",
    "print(\"jupyter\"[6])"
   ]
  },
  {
   "cell_type": "markdown",
   "metadata": {},
   "source": [
    "##### Integers and Floats\n",
    "Integers are positive or negative numbers that have no decimal places: `0, 80` <br>\n",
    "Floats can have decimal places: `4.0, -3.3333`\n",
    "\n",
    "addition: `+` <br>subtraction: `-`  <br>division: `/` <br>multiplication: `*`  <br>exponents: `**`\n",
    "<br>mod (remainder): `%` <br>division without remainder (true division) : `//`"
   ]
  },
  {
   "cell_type": "code",
   "execution_count": null,
   "metadata": {},
   "outputs": [],
   "source": [
    "print(4)\n",
    "print(4.000)\n",
    "print(2/3)"
   ]
  },
  {
   "cell_type": "code",
   "execution_count": null,
   "metadata": {},
   "outputs": [],
   "source": [
    "print(22//(5+2))\n",
    "print(22/(5+2))"
   ]
  },
  {
   "cell_type": "markdown",
   "metadata": {},
   "source": [
    "Let's say you need someone to enter a number so you program can subtract 5. What is wrong with this program?"
   ]
  },
  {
   "cell_type": "code",
   "execution_count": null,
   "metadata": {},
   "outputs": [],
   "source": [
    "n = input(\"Enter a number: \")\n",
    "print(n-5)"
   ]
  },
  {
   "cell_type": "markdown",
   "metadata": {},
   "source": [
    "The input function returns a string by default, and you can't subtract a number from a string. We have to convert the data type to an integer explicitly."
   ]
  },
  {
   "cell_type": "code",
   "execution_count": null,
   "metadata": {},
   "outputs": [],
   "source": [
    "n = int(input(\"Enter a number: \"))\n",
    "print(n-5)"
   ]
  },
  {
   "cell_type": "markdown",
   "metadata": {},
   "source": [
    "To change the value of a variable for a number, you can use the following shortcuts:"
   ]
  },
  {
   "cell_type": "code",
   "execution_count": null,
   "metadata": {},
   "outputs": [],
   "source": [
    "n = 5\n",
    "print(n)\n",
    "n += 2 #adds 2 to n\n",
    "print(n)\n",
    "n -= 3 #subtracts 3 from n\n",
    "print(n)\n",
    "n *= 4 #multiplies n by 4\n",
    "print(n)\n",
    "n /= 2 #divides n by 2\n",
    "print(n)\n",
    "n **= 2 #squares n\n",
    "print(n)"
   ]
  },
  {
   "cell_type": "markdown",
   "metadata": {},
   "source": [
    "##### Tuples\n",
    "Tuples are a data type that is useful for storing multiple pieces of data in one place."
   ]
  },
  {
   "cell_type": "code",
   "execution_count": null,
   "metadata": {},
   "outputs": [],
   "source": [
    "myTuple = (\"apple\", \"banana\", \"cherry\")\n",
    "print(myTuple)\n",
    "print(myTuple[0])\n",
    "print(myTuple[1])\n",
    "print(myTuple[2])"
   ]
  },
  {
   "cell_type": "markdown",
   "metadata": {},
   "source": [
    "Once you set the values of a tuple, they cannot be changed. You can't add elements either."
   ]
  },
  {
   "cell_type": "code",
   "execution_count": null,
   "metadata": {},
   "outputs": [],
   "source": [
    "myTuple[0] = \"grape\""
   ]
  },
  {
   "cell_type": "code",
   "execution_count": null,
   "metadata": {},
   "outputs": [],
   "source": [
    "myTuple[3] = \"pear\""
   ]
  },
  {
   "cell_type": "markdown",
   "metadata": {},
   "source": [
    "`len()` will tell you the number of elements in your tuple:"
   ]
  },
  {
   "cell_type": "code",
   "execution_count": null,
   "metadata": {},
   "outputs": [],
   "source": [
    "print(len(myTuple))"
   ]
  },
  {
   "cell_type": "markdown",
   "metadata": {},
   "source": [
    "`tuple.count(value)` gives the number of times the value appears as an element in the tuple. <br>\n",
    "`tuple.index(value)` gives the first index where the value appears as an element in the tuple."
   ]
  },
  {
   "cell_type": "code",
   "execution_count": null,
   "metadata": {},
   "outputs": [],
   "source": [
    "nums = (1,4,1,6,7,4,9,1,1)\n",
    "print(nums.count(1))\n",
    "print(nums.index(4))"
   ]
  },
  {
   "cell_type": "markdown",
   "metadata": {},
   "source": [
    "Not all elements have to be of the same data type, and you can next the tuples:"
   ]
  },
  {
   "cell_type": "code",
   "execution_count": null,
   "metadata": {},
   "outputs": [],
   "source": [
    "myTuple = (1, (\"hello\", \"world\"), 0.45, \"\\n\")\n",
    "print(myTuple)\n",
    "print(myTuple[1][0])\n",
    "print(myTuple[2]+5)"
   ]
  },
  {
   "cell_type": "markdown",
   "metadata": {},
   "source": [
    "### If Statements and Logic\n",
    "We use if statements to make decisions about which code to execute next. An if statement will execute the indented code that follows it only if its condition is true. Here the condition is the num is equal to 5."
   ]
  },
  {
   "cell_type": "code",
   "execution_count": null,
   "metadata": {},
   "outputs": [],
   "source": [
    "num = int(input(\"Enter a number:\"))\n",
    "if num==5:\n",
    "    print(\"Your number is 5!!!!!\")"
   ]
  },
  {
   "cell_type": "markdown",
   "metadata": {},
   "source": [
    "In addition to equality (==), here are some other comparisons you can do in an if statement:<br>\n",
    "\\>,  <,  <=,  >=,  and !=\n",
    "\n",
    "###### Speed Exercise: \n",
    "In the space below, write a program that prints different messages for if the user's number is greater than, less than, or equal to 5. (Don't look at the next cell!)"
   ]
  },
  {
   "cell_type": "code",
   "execution_count": null,
   "metadata": {},
   "outputs": [],
   "source": []
  },
  {
   "cell_type": "markdown",
   "metadata": {},
   "source": [
    "If the first two if statements in your program are false, then what do you know about the last one?<br>\n",
    "We use else and elif (else if) to make a group of related if statements:"
   ]
  },
  {
   "cell_type": "code",
   "execution_count": null,
   "metadata": {},
   "outputs": [],
   "source": [
    "num = int(input(\"Enter a number:\"))\n",
    "if num==5:\n",
    "    print(\"Your number is 5!!!!!\")\n",
    "elif num>5:\n",
    "    print(\"Your number is greater than 5.\")\n",
    "else:\n",
    "    print(\"Your number is less than 5.\")"
   ]
  },
  {
   "cell_type": "markdown",
   "metadata": {},
   "source": [
    "###### Speed Exercise:\n",
    "Now say the user enters two numbers, and your program prints a message only is the first number is 2 and the second number is 4. Write this program in the cell below, and don't peak at the next cells after that!"
   ]
  },
  {
   "cell_type": "code",
   "execution_count": null,
   "metadata": {},
   "outputs": [],
   "source": []
  },
  {
   "cell_type": "markdown",
   "metadata": {},
   "source": [
    "Instead nesting if statements like this:"
   ]
  },
  {
   "cell_type": "code",
   "execution_count": null,
   "metadata": {},
   "outputs": [],
   "source": [
    "n1 = int(input(\"Enter your first number:\"))\n",
    "n2 = int(input(\"Enter your second number:\"))\n",
    "if n1==2:\n",
    "    if n2==4:\n",
    "        print(\"your two digit code is correct!\")"
   ]
  },
  {
   "cell_type": "markdown",
   "metadata": {},
   "source": [
    "we can can use an \"and\" to put them in the same line:"
   ]
  },
  {
   "cell_type": "code",
   "execution_count": null,
   "metadata": {},
   "outputs": [],
   "source": [
    "n1 = int(input(\"Enter your first number:\"))\n",
    "n2 = int(input(\"Enter your second number:\"))\n",
    "if n1==2 and n2==4:\n",
    "    print(\"your two digit code is correct!\")"
   ]
  },
  {
   "cell_type": "markdown",
   "metadata": {},
   "source": [
    "\"and\" returns true only if both of the conditions before and after it are true. <br>\n",
    "\"or\" returns true if either of the conditions before or after it are true.\n",
    "<br><br>\n",
    "`True` and `False` are defined in python as just that, true and false, so don't use them as variable names."
   ]
  },
  {
   "cell_type": "code",
   "execution_count": null,
   "metadata": {},
   "outputs": [],
   "source": [
    "if True:\n",
    "    print(\"a\")\n",
    "if False:\n",
    "    print(\"b\")"
   ]
  },
  {
   "cell_type": "markdown",
   "metadata": {},
   "source": [
    "In these examples, we've actually been using another datatype: the boolean.\n",
    "<br>\n",
    "A boolean is just any value of `True` or `False`."
   ]
  },
  {
   "cell_type": "code",
   "execution_count": null,
   "metadata": {},
   "outputs": [],
   "source": [
    "x = (4>5) or (5!=0)\n",
    "y = True and not False\n",
    "z = not 0==0 or (5>=4 and 4>=5)\n",
    "print(x)\n",
    "print(y)\n",
    "print(z)"
   ]
  },
  {
   "cell_type": "markdown",
   "metadata": {},
   "source": [
    "Boolean can be pretty interesting as they are now mainly used in cs, and yet were invented long before computers...but we're just focussing on basic python programming today."
   ]
  },
  {
   "cell_type": "markdown",
   "metadata": {},
   "source": [
    "### Loops\n",
    "Let's say we wanted to print each element of a tuple with length 10 on a different line. Only knowing what we've done so far, the code would look something like this:"
   ]
  },
  {
   "cell_type": "markdown",
   "metadata": {},
   "source": [
    "`print(myTuple[0])\n",
    "print(myTuple[1])\n",
    "print(myTuple[2])\n",
    "print(myTuple[3])\n",
    "...\n",
    "print(myTuple[9])`"
   ]
  },
  {
   "cell_type": "markdown",
   "metadata": {},
   "source": [
    "Loops allow us to access each element of the list in a more efficient manner. First, let's look at a simple for loop:"
   ]
  },
  {
   "cell_type": "markdown",
   "metadata": {},
   "source": [
    "##### For Loops"
   ]
  },
  {
   "cell_type": "code",
   "execution_count": null,
   "metadata": {},
   "outputs": [],
   "source": [
    "for i in range (1,13,2):\n",
    "    print(i)"
   ]
  },
  {
   "cell_type": "markdown",
   "metadata": {},
   "source": [
    "The first number is the starting point for the range, the second number is the stopping point (so it will never be reached) and the third number is the step (steps can also be negative, but not zero).\n",
    "\n",
    "To print each element in the alphabet tuple, we could use a for loop to interate over the indeces."
   ]
  },
  {
   "cell_type": "code",
   "execution_count": null,
   "metadata": {},
   "outputs": [],
   "source": [
    "alphabet = (\"a\", \"b\", \"c\", \"d\", \"e\", \"f\", \"g\", \"h\", \"i\", \"j\")\n",
    "for i in range (0,10,1):\n",
    "    print(alphabet[i])"
   ]
  },
  {
   "cell_type": "markdown",
   "metadata": {},
   "source": [
    "Python also has built in an easier way to iterate over the elements of a tuple:"
   ]
  },
  {
   "cell_type": "code",
   "execution_count": null,
   "metadata": {},
   "outputs": [],
   "source": [
    "for letter in alphabet:\n",
    "    print(letter)"
   ]
  },
  {
   "cell_type": "markdown",
   "metadata": {},
   "source": [
    "Loops can also be nested. Take a look at this program which prints the positive three digit base three integers."
   ]
  },
  {
   "cell_type": "code",
   "execution_count": null,
   "metadata": {},
   "outputs": [],
   "source": [
    "for i in range(0,3,1):\n",
    "    for j in range(0,3,1):\n",
    "        for k in range(0,3,1):\n",
    "            print(100*i + 10*j + k)"
   ]
  },
  {
   "cell_type": "markdown",
   "metadata": {},
   "source": [
    "##### While Loops\n",
    "The while loop is like a combination between a for loop and an if statement. The while loop continues to execute its code until its condition is false. Take a look at this example, and try to predict what it will do before running."
   ]
  },
  {
   "cell_type": "code",
   "execution_count": null,
   "metadata": {},
   "outputs": [],
   "source": [
    "n=0\n",
    "while n<100 or n>999:\n",
    "    n = int(input(\"Please enter a three digit number: \"))"
   ]
  },
  {
   "cell_type": "markdown",
   "metadata": {},
   "source": [
    "While loops are often associated with a flag variable. A flag variable is used to signal the point when the loop should stop. In this example, the flag variable is `stop`"
   ]
  },
  {
   "cell_type": "code",
   "execution_count": 3,
   "metadata": {},
   "outputs": [
    {
     "name": "stdout",
     "output_type": "stream",
     "text": [
      "Enter a name. (enter 1 to stop) 1\n",
      "Your list of names is: \n"
     ]
    }
   ],
   "source": [
    "name = input(\"Enter a name. (enter 1 to stop) \")\n",
    "stop = (name == \"1\")\n",
    "namesList = \"\"\n",
    "\n",
    "while not stop:\n",
    "    namesList += name + \" \"\n",
    "    name = input(\"Enter a name. (enter 1 to stop) \")\n",
    "    stop = (name == \"1\")\n",
    "    \n",
    "print(\"Your list of names is: \"+namesList)"
   ]
  },
  {
   "cell_type": "markdown",
   "metadata": {},
   "source": [
    "### Functions\n",
    "The print() and input() functions were already defined for you, but you can also write your own functions. We write functions when we need to use a bit of code multiple times, but it doesn't make sense to use a loop. Start writing your function using the keyword def (define), and then call it any time after the definition in your program by writing the function name followed by a set of parentheses."
   ]
  },
  {
   "cell_type": "code",
   "execution_count": 4,
   "metadata": {},
   "outputs": [
    {
     "name": "stdout",
     "output_type": "stream",
     "text": [
      "hi\n",
      "hi\n"
     ]
    }
   ],
   "source": [
    "def sayHi():\n",
    "    print(\"hi\")\n",
    "sayHi()\n",
    "sayHi()"
   ]
  },
  {
   "cell_type": "markdown",
   "metadata": {},
   "source": [
    "That example probably seemed silly since it's not that hard to type `print(\"hi\")`, but in the next example the funtion will take a parameter, which allows it to do different things each time it is called."
   ]
  },
  {
   "cell_type": "code",
   "execution_count": 5,
   "metadata": {},
   "outputs": [
    {
     "name": "stdout",
     "output_type": "stream",
     "text": [
      "Hi, my name is Natasha.\n",
      "Hi, my name is Cynthia.\n"
     ]
    }
   ],
   "source": [
    "def introduce(name):\n",
    "    print(\"Hi, my name is \" + name + \".\")\n",
    "introduce(\"Natasha\")\n",
    "introduce(\"Cynthia\")"
   ]
  },
  {
   "cell_type": "markdown",
   "metadata": {},
   "source": [
    "`name` is called the `parameter`, it appears in the funtion definition. <br>\n",
    "`\"Natasha\"` and `\"Cynthia\"` are the `arguments`, they appear whenever the function is called. <br><br>\n",
    "Functions can also have multiple parameters:"
   ]
  },
  {
   "cell_type": "code",
   "execution_count": 7,
   "metadata": {},
   "outputs": [
    {
     "name": "stdout",
     "output_type": "stream",
     "text": [
      "3\n",
      "88\n"
     ]
    }
   ],
   "source": [
    "def rectArea(x, y):\n",
    "    print(x*y)\n",
    "rectArea(1,3)\n",
    "rectArea(8,11)"
   ]
  },
  {
   "cell_type": "markdown",
   "metadata": {},
   "source": [
    "Instead of just printing every time, a function can return a value so the program can use it later."
   ]
  },
  {
   "cell_type": "code",
   "execution_count": 10,
   "metadata": {},
   "outputs": [
    {
     "name": "stdout",
     "output_type": "stream",
     "text": [
      "The total area is 91\n"
     ]
    }
   ],
   "source": [
    "def rectArea(x, y):\n",
    "    return x*y\n",
    "a1 = rectArea(1,3)\n",
    "a2 = rectArea(8,11)\n",
    "print(\"The total area is \" + str(a1+a2))"
   ]
  },
  {
   "cell_type": "markdown",
   "metadata": {},
   "source": [
    "A function can even return multiple values:"
   ]
  },
  {
   "cell_type": "code",
   "execution_count": 15,
   "metadata": {},
   "outputs": [
    {
     "name": "stdout",
     "output_type": "stream",
     "text": [
      "(4, 2)\n",
      "The sum is 4\n",
      "The difference is 2\n"
     ]
    }
   ],
   "source": [
    "def sumDif(x, y):\n",
    "    return (x+y), abs(x-y) #abs() is the absolute value\n",
    "print(sumDif(1,3))\n",
    "s, d = sumDif(1,3)\n",
    "print(\"The sum is \" + str(s))\n",
    "print(\"The difference is \" + str(d))"
   ]
  },
  {
   "cell_type": "markdown",
   "metadata": {},
   "source": [
    "### Lab time!\n",
    "Write a guess-my-number program where the computer will strategically guess a number between 1 and 100 until it wins. Add another choice where the user guesses the number, and the program tells if it is high or low until the user wins."
   ]
  },
  {
   "cell_type": "code",
   "execution_count": null,
   "metadata": {},
   "outputs": [],
   "source": []
  }
 ],
 "metadata": {
  "celltoolbar": "Raw Cell Format",
  "kernelspec": {
   "display_name": "Python 3",
   "language": "python",
   "name": "python3"
  },
  "language_info": {
   "codemirror_mode": {
    "name": "ipython",
    "version": 3
   },
   "file_extension": ".py",
   "mimetype": "text/x-python",
   "name": "python",
   "nbconvert_exporter": "python",
   "pygments_lexer": "ipython3",
   "version": "3.6.5"
  }
 },
 "nbformat": 4,
 "nbformat_minor": 2
}

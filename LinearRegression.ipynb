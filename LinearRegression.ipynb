{
 "cells": [
  {
   "cell_type": "markdown",
   "metadata": {
    "collapsed": true
   },
   "source": [
    "# Welcome to Linear Regression!\n",
    "Today we will begin to do actual machine learning using your python knowledge."
   ]
  },
  {
   "cell_type": "markdown",
   "metadata": {},
   "source": [
    "The fundamental goal of linear regression is to fit a line through datapoints. This best-fit line can then be used to make predictions. \n",
    "\n",
    "Let's say we had a dataset of houses, and for each house, we knew its square footage and price. We could plot square footage on the x axis, price on the y axis, and let each dot represent a house. But what if we wanted to get an estimate for the house price for a home with a square footage not in our dataset? This is where the best-fit line comes in. If we draw a best-fit line to our dataset, we can get an approximate house price given *any* square footage. \n",
    "\n",
    "This workshop will not go into the theory and math behind linear regression, but if you are interested, here is a link to a good website which you should definitely take a look at: https://medium.com/meta-design-ideas/linear-regression-by-using-gradient-descent-algorithm-your-first-step-towards-machine-learning-a9b9c0ec41b1\n",
    "\n",
    "It's always good to understand the theory behind models, so take a look when you have time. Thankfully, we already have libraries that implement linear regression and are easy-to-use. In order to complete this notebook, you just need to understand that the computer is finding the optimal m and b values in the equation `y = mx + b` to model the data in the best possible way."
   ]
  },
  {
   "cell_type": "markdown",
   "metadata": {
    "collapsed": true
   },
   "source": [
    "# Problem Statement\n",
    "Ok, so we are going to begin our own exploration of linear regression by loading a dataset. Our problem is as follows: \n",
    "\n",
    "Students in Dr. Nelson's numerical methods class are waiting with baited breath to get feedback and  grades on their final projects, called N-Body. Finally, that dreaded email from Schoology enters everyone's inboxes. But, to their surprise, Dr. Nelson forgot to add the grades to his posts! All the students see is feedback (ranging from 10 words to 100 words). However, one clever individual in the class realizes that she can predict each person's grades based on the amount of feedback there is. She goes around collecting datapoints from previous assignments, in the format (number of words in feedback, grade), so that she can use a linear regression model fit to *that* data to predict people's scores on N-Body. \n",
    "\n",
    "Download her dataset and drag it into your AIClub folder: https://drive.google.com/open?id=18-oZhJDSnXKZK5wROiqsec4XC_JlQqBw"
   ]
  },
  {
   "cell_type": "markdown",
   "metadata": {},
   "source": [
    "# Importing the Data"
   ]
  },
  {
   "cell_type": "code",
   "execution_count": 4,
   "metadata": {},
   "outputs": [],
   "source": [
    "import pandas as pd\n",
    "\n",
    "#Read in the CSV file using pandas (you may have to refer to your past notebooks)\n",
    "data = #your code here"
   ]
  },
  {
   "cell_type": "code",
   "execution_count": 9,
   "metadata": {},
   "outputs": [
    {
     "data": {
      "image/png": "[encoded data removed]",
      "text/plain": [
       "<Figure size 432x288 with 1 Axes>"
      ]
     },
     "metadata": {},
     "output_type": "display_data"
    }
   ],
   "source": [
    "#Now, let's visualize our dataset using the matplotlib library\n",
    "\n",
    "import matplotlib.pyplot as plt\n",
    "\n",
    "data.plot(kind='scatter',x='NumberOfWords',y='Grade',color='red')\n",
    "plt.show()"
   ]
  },
  {
   "cell_type": "markdown",
   "metadata": {},
   "source": [
    "Ok, so it seems that we can try to fit a line through this dataset. The trend is downwards-sloping, as we would expect. A greater amount of feedback means that there are more issues with your code submission; whereas \"Looks good, runs\" would suffice as a comment for a perfect submission."
   ]
  },
  {
   "cell_type": "markdown",
   "metadata": {},
   "source": [
    "# Running Linear Regression"
   ]
  },
  {
   "cell_type": "code",
   "execution_count": 10,
   "metadata": {},
   "outputs": [],
   "source": [
    "from sklearn.linear_model import LinearRegression"
   ]
  },
  {
   "cell_type": "markdown",
   "metadata": {},
   "source": [
    "LinearRegression().fit(X, y) is how you train the linear regression model, but all of our data is currently in one dataframe. We need the NumberOfWords column to function as our X (the independent variable), and the Grade to function as our y (the dependent variable)."
   ]
  },
  {
   "cell_type": "code",
   "execution_count": 22,
   "metadata": {},
   "outputs": [],
   "source": [
    "#Train the linear regression model. Note that to typically access a column from a dataframe,\n",
    "#you need just a single set of square brackets. But to fix some issues with dimensions that\n",
    "#arise, we need two sets of square brackets.\n",
    "X = data[['NumberOfWords']]\n",
    "y = data[['Grade']]\n",
    "result = LinearRegression().fit(X, y) "
   ]
  },
  {
   "cell_type": "markdown",
   "metadata": {},
   "source": [
    "After running linear regression, we should have the optimal values of m & b for the line that fits best to the data. We can obtain those values from the model. We can also understand how good of a fit that best fit line is by using the R^2 score."
   ]
  },
  {
   "cell_type": "code",
   "execution_count": 36,
   "metadata": {},
   "outputs": [
    {
     "name": "stdout",
     "output_type": "stream",
     "text": [
      "[[-0.33104839]]\n",
      "[101.25564516]\n",
      "0.7280108726958527\n"
     ]
    }
   ],
   "source": [
    "#Get the values of m and b\n",
    "print(result.coef_)\n",
    "print(result.intercept_)\n",
    "\n",
    "#This assesses how well the model is \"fit\" to the data. This specifically is the R^2 coefficient,\n",
    "#one of many ways of evaluating the performance of a fit.\n",
    "print(result.score(X, y))"
   ]
  },
  {
   "cell_type": "markdown",
   "metadata": {},
   "source": [
    "# Visualizing the Results"
   ]
  },
  {
   "cell_type": "markdown",
   "metadata": {},
   "source": [
    "import numpy as np\n",
    "\n",
    "m = #put the value of m (coefficient) obtained from linear regression here\n",
    "b = #put the value of b (intercept) obtained from linear regression here\n",
    "\n",
    "#Replot the original datapoints\n",
    "data.plot(kind='scatter',x='NumberOfWords',y='Grade',color='red')\n",
    "\n",
    "fitLine = lambda x: m*x + b\n",
    "domain = np.array([0,80])\n",
    "plt.plot(domain, fitLine(domain), c=\"black\", label=\"Line of best fit\")\n",
    "\n",
    "plt.show()"
   ]
  },
  {
   "cell_type": "markdown",
   "metadata": {},
   "source": [
    "Hey, that looks pretty good! Looks like our model did a good job of performing a least-squares fit on the datapoints. \n",
    "\n",
    "Now, poor Bob has received the following comment: ```Crashes with “undefined statement error in 90”. You have gosub 895, but there is no line 895. Seriously? Well written and nicely documented with good structure. Try testing your code BEFORE you give it to me in the future.``` (Regrettably, this is based on a true story).\n",
    "\n",
    "As his eyes begin to glaze over with tears, you feel the need to help him estimate his grade! Use your best-fit line to assist him."
   ]
  },
  {
   "cell_type": "code",
   "execution_count": 46,
   "metadata": {},
   "outputs": [
    {
     "data": {
      "text/plain": [
       "88.34475795"
      ]
     },
     "execution_count": 46,
     "metadata": {},
     "output_type": "execute_result"
    }
   ],
   "source": [
    "fitLine(#number of words)"
   ]
  },
  {
   "cell_type": "markdown",
   "metadata": {},
   "source": [
    "You should have gotten a value of around 88%.\n",
    "\n",
    "However, when Dr. Nelson re-posts the comments with the grades included, Bob realizes he got a very disappointing 75%!\n",
    "\n",
    "This is a reminder that no normal machine learning model will be perfectly accurate if it is tested on data that it hasn't seen before. You can calculate the percentage error for this prediction: (88-75)/75 * 100."
   ]
  },
  {
   "cell_type": "markdown",
   "metadata": {},
   "source": [
    "# Use Another Dataset!\n",
    "\n",
    "Linear Regression is a very important concept, so try repeating the steps above using a dataset you find online yourself, for any problem of your choice. You can ask us for suggestions if you'd like. Don't overwrite what you have done; instead, try replicating the steps you completed above in the space below."
   ]
  },
  {
   "cell_type": "code",
   "execution_count": null,
   "metadata": {},
   "outputs": [],
   "source": []
  }
 ],
 "metadata": {
  "kernelspec": {
   "display_name": "Python 2",
   "language": "python",
   "name": "python2"
  },
  "language_info": {
   "codemirror_mode": {
    "name": "ipython",
    "version": 2
   },
   "file_extension": ".py",
   "mimetype": "text/x-python",
   "name": "python",
   "nbconvert_exporter": "python",
   "pygments_lexer": "ipython2",
   "version": "2.7.13"
  }
 },
 "nbformat": 4,
 "nbformat_minor": 2
}
